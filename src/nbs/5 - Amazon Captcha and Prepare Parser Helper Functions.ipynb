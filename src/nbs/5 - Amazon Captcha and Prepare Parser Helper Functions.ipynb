{
 "cells": [
  {
   "cell_type": "code",
   "execution_count": 1,
   "id": "e290e993-7a9b-4338-8185-b4ddf98ef1cc",
   "metadata": {},
   "outputs": [],
   "source": [
    "import setup\n",
    "setup.init_django(project_name='conf')"
   ]
  },
  {
   "cell_type": "code",
   "execution_count": 2,
   "id": "84d4cf5f-ac85-4a64-a3b4-3f808db28d0e",
   "metadata": {},
   "outputs": [],
   "source": [
    "import helpers"
   ]
  },
  {
   "cell_type": "code",
   "execution_count": 3,
   "id": "9d8f28a4-2433-45a9-a97e-94852963f0a6",
   "metadata": {},
   "outputs": [],
   "source": [
    "from bs4 import BeautifulSoup"
   ]
  },
  {
   "cell_type": "code",
   "execution_count": 4,
   "id": "dc7d9948-8b1f-4a1b-b431-e0b8230f08d7",
   "metadata": {},
   "outputs": [],
   "source": [
    "url = \"https://www.amazon.com/PlayStation%C2%AE5-console-slim-PlayStation-5/dp/B0CL61F39H/ref=sr_1_1?crid=30GAK7NM13LAY&dib=eyJ2IjoiMSJ9.F-c6KBJm1tKH0t43iBScfCfEIEFn9fme4tekt5SU7EijIEwRh738VBI7SBXhXPO-5rgEWvxbZTcf8nCJnstwLKn7991qn6xL-T81fzxIuBXSbDxlbzAbuNTXEIILAFc9lg2Xr7HRncSoyhDqnlguDwVApeTf_RZic9BNKs7dqJSpsvAjEMNR3OiKYWy1y8ZzXMZmJ1Yz7gFZHkxiyW7p9XlVt8i9Q-DolMmjCnL02BU.hovw4FtCiftxgW1SnWH1VUZru8X9Qxg_e76HflKud44&dib_tag=se&keywords=playstation%2B5&qid=1730985769&sprefix=play%2Caps%2C636&sr=8-1&th=1\""
   ]
  },
  {
   "cell_type": "code",
   "execution_count": null,
   "id": "7da05dd5-1afc-4b4b-a40c-4586722b970d",
   "metadata": {},
   "outputs": [],
   "source": [
    "url = \"https://www.amazon.com/PlayStation%C2%AE5-Digital-slim-PlayStation-5/dp/B0CL5KNB9M/ref=sr_1_3?crid=B7GWFZXZ2OED&dib=eyJ2IjoiMSJ9.kgp6If9Ie8zGHwBo-0htBLyQbbKjs5VuqpcJV5opH4mRqQT9y1GDUhgEGC4Ze5c7iOpklu5U3l_vF3hGTmGfZf8jvVY7cSGvtmhRbSth2-wUchP4cPB4bCopxZnBPpqLbX4wU-JZkepl_i4fGdXQJXUMLc256FqdCdlbjr6ZMyFHhWIJq2G38fcfQx3z9RS1e48jNXaYXv1rWtJ3Y30-OZP-ckGz15zF5vR6k6z6G6c.HDrf64xu0Nz7DYLZvUdGglWizRZpAXBxsxbsgsW26Tc&dib_tag=se&keywords=ps5&qid=1709675943&sprefix=ps5%2Caps%2C190&sr=8-3\""
   ]
  },
  {
   "cell_type": "code",
   "execution_count": 5,
   "id": "168ced4b-b7b5-40f3-b429-441ec9ef5664",
   "metadata": {},
   "outputs": [
    {
     "data": {
      "text/plain": [
       "'https://www.amazon.com/PlayStation%C2%AE5-console-slim-PlayStation-5/dp/B0CL61F39H/ref=sr_1_1?crid=30GAK7NM13LAY&dib=eyJ2IjoiMSJ9.F-c6KBJm1tKH0t43iBScfCfEIEFn9fme4tekt5SU7EijIEwRh738VBI7SBXhXPO-5rgEWvxbZTcf8nCJnstwLKn7991qn6xL-T81fzxIuBXSbDxlbzAbuNTXEIILAFc9lg2Xr7HRncSoyhDqnlguDwVApeTf_RZic9BNKs7dqJSpsvAjEMNR3OiKYWy1y8ZzXMZmJ1Yz7gFZHkxiyW7p9XlVt8i9Q-DolMmjCnL02BU.hovw4FtCiftxgW1SnWH1VUZru8X9Qxg_e76HflKud44&dib_tag=se&keywords=playstation%2B5&qid=1730985769&sprefix=play%2Caps%2C636&sr=8-1&th=1'"
      ]
     },
     "execution_count": 5,
     "metadata": {},
     "output_type": "execute_result"
    }
   ],
   "source": [
    "url"
   ]
  },
  {
   "cell_type": "code",
   "execution_count": 8,
   "id": "10691fd3-a554-4087-bf3d-34c4ed545b04",
   "metadata": {},
   "outputs": [
    {
     "name": "stdout",
     "output_type": "stream",
     "text": [
      "Connecting to Scraping Browser...\n",
      "Connected! Navigating to https://www.amazon.com/PlayStation%C2%AE5-console-slim-PlayStation-5/dp/B0CL61F39H/ref=sr_1_1\n",
      "Navigated! Scraping page content...\n"
     ]
    }
   ],
   "source": [
    "html = helpers.scrape(url=url, solve_captcha=False)\n",
    "data = helpers.extract_amazon_product_data(html)"
   ]
  },
  {
   "cell_type": "code",
   "execution_count": 9,
   "id": "ee2e460f-179b-4468-8f1d-71e816be2ca7",
   "metadata": {},
   "outputs": [
    {
     "data": {
      "text/plain": [
       "{'asin': 'B0CL61F39H',\n",
       " 'title': 'PlayStation®5 console (slim)',\n",
       " 'price_raw': '499.',\n",
       " 'price_text': '499.',\n",
       " 'price': 499.0,\n",
       " 'metadata': [{'ASIN': 'B0CL61F39H'},\n",
       "  {'Release date': 'December 10, 2023'},\n",
       "  {'Customer Reviews': '4.7  4.7 out of 5 stars    \\n    8,554 ratings   \\n\\n\\n 4.7 out of 5 stars'},\n",
       "  {'Best Sellers Rank': '#16 in Video Games (See Top 100 in Video Games)  #1 in PlayStation 5 Consoles'},\n",
       "  {'Product Dimensions': '14 x 17 x 7 inches; 10.6 Pounds'},\n",
       "  {'Type of item': 'Video Game'},\n",
       "  {'Item model number': 'CFI-2015'},\n",
       "  {'Item Weight': '10.6 pounds'},\n",
       "  {'Manufacturer': 'Sony'},\n",
       "  {'Country of Origin': 'China'},\n",
       "  {'Batteries': '1 Lithium Ion batteries required. (included)'},\n",
       "  {'Date First Available': 'December 10, 2023'}],\n",
       " 'description': ' \\n The PS5 console unleashes new gaming possibilities that you never anticipated. Experience lightning fast loading with an ultra-high speed SSD, deeper immersion with support for haptic feedback, adaptive triggers, and 3D Audio*, and an all-new generation of incredible PlayStation games. Lightning Speed - Harness the power of a custom CPU, GPU, and SSD with Integrated I/O that rewrite the rules of what a PlayStation console can do. Stunning Games - Marvel at incredible graphics and experience new PS5 features. Play a back catalog of supported PS4 games. Breathtaking Immersion - Discover a deeper gaming experience with support for haptic feedback, adaptive triggers, and 3D Audio technology. Vertical stand sold separately. *3D audio via built-in TV speakers or analog/USB stereo headphones. Set up and latest system software update required.  ',\n",
       " 'feature_bullets': ' \\n About this item    Model Number CFI-2000    Includes DualSense Wireless Controller, 1TB SSD, Disc Drive, 2 Horizontal Stand Feet, HDMI Cable, AC power cord, USB cable, printed materials, ASTRO’s PLAYROOM (Pre-installed game)    Vertical Stand sold separately    \\n ›  See more product details   ',\n",
       " 'rating': {'average': 4.7, 'count': 8554}}"
      ]
     },
     "execution_count": 9,
     "metadata": {},
     "output_type": "execute_result"
    }
   ],
   "source": [
    "data"
   ]
  },
  {
   "cell_type": "code",
   "execution_count": null,
   "id": "babf6eec-9a9f-4926-b75e-01fc805beb52",
   "metadata": {},
   "outputs": [],
   "source": [
    "def find_product_table_data(html):\n",
    "    soup = BeautifulSoup(html)\n",
    "    product_data = soup.find('div', id='prodDetails')\n",
    "    if product_data is None:\n",
    "        return []\n",
    "    table = product_data.find('table')\n",
    "    columns = [f\"{x.text}\".strip() for x in table.find_all('th')]\n",
    "    table_data=[]\n",
    "    for i, row in enumerate(table.find_all('tr')):  # [1:] to skip the header row\n",
    "        # Get all cells in the row\n",
    "        cells = row.find_all('td')\n",
    "        # Create a dictionary for the current row, mapping header to cell data\n",
    "        row_data = {columns[i]: f'{cell.text}'.strip() for cell in cells}\n",
    "        # Add the dictionary to your list\n",
    "        table_data.append(row_data)\n",
    "    return table_data\n",
    "\n",
    "def find_product_rating(html):\n",
    "    soup = BeautifulSoup(html)\n",
    "    average_rating = soup.find(id='averageCustomerReviews').find_all(\"span\", class_='a-size-base')[0].text.strip()\n",
    "    average_rating = \"\".join([x for x in f\"{average_rating}\".strip() if x.isdigit() or x == '.'])\n",
    "    average_rating = float(average_rating)\n",
    "    rating_data = soup.find(id='acrCustomerReviewText').text\n",
    "    rating_count = int(''.join([x for x in rating_data if x.isdigit()]))\n",
    "    rating_count\n",
    "    return {\n",
    "        'average': average_rating,\n",
    "        'count': rating_count,\n",
    "    }\n",
    "\n",
    "def extract_amazon_product_data(html):\n",
    "    soup = BeautifulSoup(html)\n",
    "    productTitle = soup.find('span', id='productTitle')\n",
    "    productTitleText = f\"{productTitle.text}\".strip()\n",
    "    productPrice = soup.find_all('span', class_='a-price-whole')[0]\n",
    "    productPrice = f\"{productPrice.text}\".strip()\n",
    "    productPriceText = \"\".join([x for x in productPrice if x.isdigit() or x == '.'])\n",
    "    productPriceNum = float(productPriceText)\n",
    "    try:\n",
    "        productDescription = soup.find('div', id='productDescription').text\n",
    "    except:\n",
    "        productDescription = ''\n",
    "    featureBullets = soup.find('div', id='feature-bullets').text\n",
    "    return {\n",
    "        'title': productTitleText,\n",
    "        'price_raw': productPrice,\n",
    "        'price_text': productPriceText,\n",
    "        'price': productPriceNum,\n",
    "        'metadata': find_product_table_data(html),\n",
    "        'description': productDescription,\n",
    "        'feature_bullets': featureBullets,\n",
    "        'rating': find_product_rating(html)\n",
    "    }"
   ]
  },
  {
   "cell_type": "code",
   "execution_count": null,
   "id": "5161fc4d-d432-4403-87b3-dab93ad12564",
   "metadata": {},
   "outputs": [],
   "source": [
    "html = helpers.scrape(url=url, solve_captcha=False)"
   ]
  },
  {
   "cell_type": "code",
   "execution_count": null,
   "id": "151a4258-c577-4502-aa95-9beeaaae5f98",
   "metadata": {},
   "outputs": [],
   "source": [
    "data = extract_amazon_product_data(html)\n",
    "data"
   ]
  },
  {
   "cell_type": "code",
   "execution_count": null,
   "id": "847eb613-d560-4876-aea1-c4264ce27198",
   "metadata": {},
   "outputs": [],
   "source": []
  }
 ],
 "metadata": {
  "kernelspec": {
   "display_name": "Python 3 (ipykernel)",
   "language": "python",
   "name": "python3"
  },
  "language_info": {
   "codemirror_mode": {
    "name": "ipython",
    "version": 3
   },
   "file_extension": ".py",
   "mimetype": "text/x-python",
   "name": "python",
   "nbconvert_exporter": "python",
   "pygments_lexer": "ipython3",
   "version": "3.8.19"
  }
 },
 "nbformat": 4,
 "nbformat_minor": 5
}
