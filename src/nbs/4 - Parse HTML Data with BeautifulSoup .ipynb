{
 "cells": [
  {
   "cell_type": "code",
   "execution_count": 19,
   "id": "76ba9aac-bb6d-462a-b978-ba6e50e76e5d",
   "metadata": {},
   "outputs": [],
   "source": [
    "import setup\n",
    "setup.init_django(project_name='conf')"
   ]
  },
  {
   "cell_type": "code",
   "execution_count": 20,
   "id": "2a6926db-c5cd-4799-be07-ce945e3a2acc",
   "metadata": {},
   "outputs": [],
   "source": [
    "url = \"https://www.amazon.com/PlayStation%C2%AE5-Digital-slim-PlayStation-5/dp/B0CL5KNB9M/ref=sr_1_3?crid=B7GWFZXZ2OED&dib=eyJ2IjoiMSJ9.kgp6If9Ie8zGHwBo-0htBLyQbbKjs5VuqpcJV5opH4mRqQT9y1GDUhgEGC4Ze5c7iOpklu5U3l_vF3hGTmGfZf8jvVY7cSGvtmhRbSth2-wUchP4cPB4bCopxZnBPpqLbX4wU-JZkepl_i4fGdXQJXUMLc256FqdCdlbjr6ZMyFHhWIJq2G38fcfQx3z9RS1e48jNXaYXv1rWtJ3Y30-OZP-ckGz15zF5vR6k6z6G6c.HDrf64xu0Nz7DYLZvUdGglWizRZpAXBxsxbsgsW26Tc&dib_tag=se&keywords=ps5&qid=1709675943&sprefix=ps5%2Caps%2C190&sr=8-3\"\n"
   ]
  },
  {
   "cell_type": "code",
   "execution_count": 34,
   "id": "23d4fefe-ca07-4acc-9814-3f76a7561592",
   "metadata": {},
   "outputs": [],
   "source": [
    "url = \"https://www.amazon.com/PlayStation%C2%AE5-console-slim-PlayStation-5/dp/B0CL61F39H/ref=sr_1_1?crid=30GAK7NM13LAY&dib=eyJ2IjoiMSJ9.F-c6KBJm1tKH0t43iBScfCfEIEFn9fme4tekt5SU7EijIEwRh738VBI7SBXhXPO-5rgEWvxbZTcf8nCJnstwLKn7991qn6xL-T81fzxIuBXSbDxlbzAbuNTXEIILAFc9lg2Xr7HRncSoyhDqnlguDwVApeTf_RZic9BNKs7dqJSpsvAjEMNR3OiKYWy1y8ZzXMZmJ1Yz7gFZHkxiyW7p9XlVt8i9Q-DolMmjCnL02BU.hovw4FtCiftxgW1SnWH1VUZru8X9Qxg_e76HflKud44&dib_tag=se&keywords=playstation%2B5&qid=1730985769&sprefix=play%2Caps%2C636&sr=8-1&th=1\""
   ]
  },
  {
   "cell_type": "code",
   "execution_count": 35,
   "id": "43e40be8-30e9-4c5c-8b1f-26fa42786bb2",
   "metadata": {},
   "outputs": [],
   "source": [
    "import helpers"
   ]
  },
  {
   "cell_type": "code",
   "execution_count": 36,
   "id": "6dcf93c7-ee18-4fb7-abe3-a29b11eb7e91",
   "metadata": {},
   "outputs": [
    {
     "name": "stdout",
     "output_type": "stream",
     "text": [
      "Connecting to Scraping Browser...\n",
      "Connected! Navigating to https://www.amazon.com/PlayStation%C2%AE5-console-slim-PlayStation-5/dp/B0CL61F39H/ref=sr_1_1?crid=30GAK7NM13LAY&dib=eyJ2IjoiMSJ9.F-c6KBJm1tKH0t43iBScfCfEIEFn9fme4tekt5SU7EijIEwRh738VBI7SBXhXPO-5rgEWvxbZTcf8nCJnstwLKn7991qn6xL-T81fzxIuBXSbDxlbzAbuNTXEIILAFc9lg2Xr7HRncSoyhDqnlguDwVApeTf_RZic9BNKs7dqJSpsvAjEMNR3OiKYWy1y8ZzXMZmJ1Yz7gFZHkxiyW7p9XlVt8i9Q-DolMmjCnL02BU.hovw4FtCiftxgW1SnWH1VUZru8X9Qxg_e76HflKud44&dib_tag=se&keywords=playstation%2B5&qid=1730985769&sprefix=play%2Caps%2C636&sr=8-1&th=1\n",
      "Navigated! Scraping page content...\n"
     ]
    }
   ],
   "source": [
    "html = helpers.scrape(url=url)"
   ]
  },
  {
   "cell_type": "code",
   "execution_count": 37,
   "id": "b9fe9d15-6b40-41f3-aca4-0df84a71785c",
   "metadata": {},
   "outputs": [],
   "source": [
    "from bs4 import BeautifulSoup"
   ]
  },
  {
   "cell_type": "code",
   "execution_count": 38,
   "id": "8cb4e7e5-c4ef-4a38-a9bf-aad922fa5127",
   "metadata": {},
   "outputs": [],
   "source": [
    "soup = BeautifulSoup(html)\n"
   ]
  },
  {
   "cell_type": "markdown",
   "id": "57c80af5-6c64-41cb-aa68-6bf971e5d854",
   "metadata": {},
   "source": [
    "``` html\n",
    "<span id=\"productTitle\" class=\"a-size-large product-title-word-break\">        \n",
    "    PlayStation®5 Digital Edition (slim)       \n",
    "</span>\n",
    "\n",
    "<div id=\"titleSection\" class=\"a-section a-spacing-none\"> \n",
    "    <h1 id=\"title\" class=\"a-size-large a-spacing-none\">\n",
    "        <span id=\"productTitle\" class=\"a-size-large product-title-word-break\">        PlayStation®5 Digital Edition (slim)       </span>  \n",
    "    </h1> \n",
    "    <div id=\"expandTitleToggle\" class=\"a-section a-spacing-none expand aok-hidden\"></div>  \n",
    "</div>\n",
    "\n",
    "```"
   ]
  },
  {
   "cell_type": "code",
   "execution_count": 43,
   "id": "1ee5ddf7-8c0f-45f2-9b5c-30af4bf1487e",
   "metadata": {},
   "outputs": [
    {
     "data": {
      "text/plain": [
       "'PlayStation®5 console (slim)'"
      ]
     },
     "execution_count": 43,
     "metadata": {},
     "output_type": "execute_result"
    }
   ],
   "source": [
    "productTitle = soup.find('span', id='productTitle')\n",
    "productTitleText = f\"{productTitle.text}\".strip()\n",
    "productTitleText"
   ]
  },
  {
   "cell_type": "markdown",
   "id": "fca2be04-6061-49d5-89a9-d6e778f05fe1",
   "metadata": {},
   "source": [
    "```html\n",
    "<span class=\"a-price-whole\">499<span class=\"a-price-decimal\">.</span></span>\n",
    "```"
   ]
  },
  {
   "cell_type": "code",
   "execution_count": 46,
   "id": "6db6b9cb-82ce-451d-8ee5-09fcf24ebda6",
   "metadata": {},
   "outputs": [
    {
     "data": {
      "text/plain": [
       "499.0"
      ]
     },
     "execution_count": 46,
     "metadata": {},
     "output_type": "execute_result"
    }
   ],
   "source": [
    "productPrice = soup.find_all('span', class_='a-price-whole')[0]\n",
    "productPrice\n",
    "productPriceText = \"\".join([x for x in f\"{productPrice.text}\".strip() if x.isdigit() or x == '.'])\n",
    "productPriceNum = float(productPriceText)\n",
    "productPriceNum\n"
   ]
  },
  {
   "cell_type": "code",
   "execution_count": 52,
   "id": "c770e666-2b2d-49bf-8793-5e274f86aeb4",
   "metadata": {},
   "outputs": [
    {
     "data": {
      "text/plain": [
       "['Memory Storage Capacity',\n",
       " 'Resolution',\n",
       " 'Wireless Communication Technology',\n",
       " 'Input Device',\n",
       " 'Connectivity Technology',\n",
       " 'Platform']"
      ]
     },
     "execution_count": 52,
     "metadata": {},
     "output_type": "execute_result"
    }
   ],
   "source": [
    "product_data = soup.find('div', id='prodDetails')\n",
    "table = product_data.find('table')\n",
    "columns = [f\"{x.text}\".strip() for x in table.find_all('th')]\n",
    "columns"
   ]
  },
  {
   "cell_type": "code",
   "execution_count": 53,
   "id": "5ea47306-b886-4a68-9034-5e5ef969f314",
   "metadata": {},
   "outputs": [],
   "source": [
    "table_data=[]\n",
    "for i, row in enumerate(table.find_all('tr')):  # [1:] to skip the header row\n",
    "    # Get all cells in the row\n",
    "    cells = row.find_all('td')\n",
    "    # Create a dictionary for the current row, mapping header to cell data\n",
    "    row_data = {columns[i]: f'{cell.text}'.strip() for cell in cells}\n",
    "    # Add the dictionary to your list\n",
    "    table_data.append(row_data)"
   ]
  },
  {
   "cell_type": "code",
   "execution_count": 54,
   "id": "c02868d2-0703-4370-995e-1da0af9af683",
   "metadata": {
    "scrolled": true
   },
   "outputs": [
    {
     "data": {
      "text/plain": [
       "[{'Memory Storage Capacity': '1 TB'},\n",
       " {'Resolution': '4K'},\n",
       " {'Wireless Communication Technology': 'Bluetooth, Wi-Fi'},\n",
       " {'Input Device': 'Gamepad'},\n",
       " {'Connectivity Technology': 'HDMI'},\n",
       " {'Platform': 'PlayStation 5'}]"
      ]
     },
     "execution_count": 54,
     "metadata": {},
     "output_type": "execute_result"
    }
   ],
   "source": [
    "table_data"
   ]
  },
  {
   "cell_type": "code",
   "execution_count": 55,
   "id": "3e777ded-a048-49d0-80b3-b73025472a8e",
   "metadata": {},
   "outputs": [
    {
     "data": {
      "text/plain": [
       "['B0CL61F39H']"
      ]
     },
     "execution_count": 55,
     "metadata": {},
     "output_type": "execute_result"
    }
   ],
   "source": [
    "elements_with_attribute = soup.find_all(lambda tag: tag.has_attr('data-csa-c-asin'))\n",
    "asins = [x.attrs.get('data-csa-c-asin') for x in elements_with_attribute if x]\n",
    "asins = list(set([x for x in asins if x != \"\"]))\n",
    "asins"
   ]
  },
  {
   "cell_type": "code",
   "execution_count": 56,
   "id": "19e59364-5782-4f5a-9f20-7815810e3399",
   "metadata": {},
   "outputs": [
    {
     "data": {
      "text/plain": [
       "' \\n The PS5 console unleashes new gaming possibilities that you never anticipated. Experience lightning fast loading with an ultra-high speed SSD, deeper immersion with support for haptic feedback, adaptive triggers, and 3D Audio*, and an all-new generation of incredible PlayStation games. Lightning Speed - Harness the power of a custom CPU, GPU, and SSD with Integrated I/O that rewrite the rules of what a PlayStation console can do. Stunning Games - Marvel at incredible graphics and experience new PS5 features. Play a back catalog of supported PS4 games. Breathtaking Immersion - Discover a deeper gaming experience with support for haptic feedback, adaptive triggers, and 3D Audio technology. Vertical stand sold separately. *3D audio via built-in TV speakers or analog/USB stereo headphones. Set up and latest system software update required.  '"
      ]
     },
     "execution_count": 56,
     "metadata": {},
     "output_type": "execute_result"
    }
   ],
   "source": [
    "productDescription = soup.find('div', id='productDescription').text\n",
    "productDescription"
   ]
  },
  {
   "cell_type": "code",
   "execution_count": 57,
   "id": "5f6a342f-f2e4-4c3a-bc6b-6ab10da348c9",
   "metadata": {},
   "outputs": [
    {
     "data": {
      "text/plain": [
       "' \\n About this item    Model Number CFI-2000    Includes DualSense Wireless Controller, 1TB SSD, Disc Drive, 2 Horizontal Stand Feet, HDMI Cable, AC power cord, USB cable, printed materials, ASTRO’s PLAYROOM (Pre-installed game)    Vertical Stand sold separately    \\n ›  See more product details   '"
      ]
     },
     "execution_count": 57,
     "metadata": {},
     "output_type": "execute_result"
    }
   ],
   "source": [
    "featureBullets = soup.find('div', id='feature-bullets').text\n",
    "featureBullets"
   ]
  },
  {
   "cell_type": "code",
   "execution_count": 58,
   "id": "dd3d28e9-c0ba-4bff-a01c-fbfd78467edd",
   "metadata": {},
   "outputs": [
    {
     "data": {
      "text/plain": [
       "4.7"
      ]
     },
     "execution_count": 58,
     "metadata": {},
     "output_type": "execute_result"
    }
   ],
   "source": [
    "average_rating = soup.find(id='averageCustomerReviews').find_all(\"span\", class_='a-size-base')[0].text.strip()\n",
    "average_rating = \"\".join([x for x in f\"{average_rating}\".strip() if x.isdigit() or x == '.'])\n",
    "average_rating = float(average_rating)\n",
    "average_rating"
   ]
  },
  {
   "cell_type": "code",
   "execution_count": 60,
   "id": "9353f51f-b910-4af5-917c-a4a1d05fd91e",
   "metadata": {},
   "outputs": [
    {
     "data": {
      "text/plain": [
       "8554"
      ]
     },
     "execution_count": 60,
     "metadata": {},
     "output_type": "execute_result"
    }
   ],
   "source": [
    "rating_data = soup.find(id='acrCustomerReviewText').text\n",
    "rating_count = int(''.join([x for x in rating_data if x.isdigit()]))\n",
    "rating_count"
   ]
  },
  {
   "cell_type": "code",
   "execution_count": null,
   "id": "59d255b1-ad06-4b58-98c4-37334ac7c389",
   "metadata": {},
   "outputs": [],
   "source": []
  }
 ],
 "metadata": {
  "kernelspec": {
   "display_name": "Python 3 (ipykernel)",
   "language": "python",
   "name": "python3"
  },
  "language_info": {
   "codemirror_mode": {
    "name": "ipython",
    "version": 3
   },
   "file_extension": ".py",
   "mimetype": "text/x-python",
   "name": "python",
   "nbconvert_exporter": "python",
   "pygments_lexer": "ipython3",
   "version": "3.8.19"
  }
 },
 "nbformat": 4,
 "nbformat_minor": 5
}
