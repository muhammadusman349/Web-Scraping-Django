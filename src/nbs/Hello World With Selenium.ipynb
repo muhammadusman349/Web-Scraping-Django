{
 "cells": [
  {
   "cell_type": "code",
   "execution_count": 1,
   "id": "7bd7cd20-fc30-4bb0-bc71-b2d7eb0a9e88",
   "metadata": {},
   "outputs": [],
   "source": [
    "from selenium import webdriver\n",
    "from selenium.webdriver.chrome.options import Options\n",
    "import time"
   ]
  },
  {
   "cell_type": "code",
   "execution_count": 2,
   "id": "19f517fd-0ed2-427e-84fd-27a44ff78c4c",
   "metadata": {},
   "outputs": [],
   "source": [
    "options = Options()\n",
    "#options.add_argument('__headless')"
   ]
  },
  {
   "cell_type": "code",
   "execution_count": 3,
   "id": "669c681c-56ba-4717-88ed-1f542f799077",
   "metadata": {},
   "outputs": [],
   "source": [
    "url = \"https://www.amazon.com/PlayStation%C2%AE5-Digital-slim-PlayStation-5/dp/B0CL5KNB9M/ref=sr_1_1?crid=14Y4DGM4AJPTZ&dib=eyJ2IjoiMSJ9.R1UgvX_fBAMVBvUjhU7vZO7_Rxv3xAIYxHhZ1c1ggSBTjJGC8-Enwwnp26KPrpAm82nKsVUMQNcThaSyMFfm8V18bzpuvQs5TYL9sbfv9hhj5Ifjf8gZIAGiGFHjEe4eAV2gKzjOIfI6yNe5bxwQ1MWZmL-F8uscs36bg6i5foYtyMuWCQAra2GXuyrbWznDJ6pECUHXXO1qYMmYPoC6FZodvXUzmV0fBEJpkp4-XVc.qIj_CpY9if2oD2as2ml1Szd5ygtkKzRLid2nkjdIYaM&dib_tag=se&keywords=playstation%2B5&qid=1720691552&sprefix=%2Caps%2C731&sr=8-1&th=1\""
   ]
  },
  {
   "cell_type": "code",
   "execution_count": null,
   "id": "08175820-591f-47d6-b32c-2184b249eb7c",
   "metadata": {},
   "outputs": [],
   "source": [
    "with webdriver.Chrome(options=options) as driver:\n",
    "    driver.get(url)\n",
    "    time.sleep(1000)"
   ]
  },
  {
   "cell_type": "code",
   "execution_count": null,
   "id": "6ed7dd69-c1ea-4a43-8cf2-24ec16fb635d",
   "metadata": {},
   "outputs": [],
   "source": []
  }
 ],
 "metadata": {
  "kernelspec": {
   "display_name": "Python 3 (ipykernel)",
   "language": "python",
   "name": "python3"
  },
  "language_info": {
   "codemirror_mode": {
    "name": "ipython",
    "version": 3
   },
   "file_extension": ".py",
   "mimetype": "text/x-python",
   "name": "python",
   "nbconvert_exporter": "python",
   "pygments_lexer": "ipython3",
   "version": "3.8.19"
  }
 },
 "nbformat": 4,
 "nbformat_minor": 5
}
