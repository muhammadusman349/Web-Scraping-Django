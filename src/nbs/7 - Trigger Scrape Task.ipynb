{
 "cells": [
  {
   "cell_type": "code",
   "execution_count": null,
   "id": "0a9886e5-e384-4a15-91df-afd53753b17d",
   "metadata": {},
   "outputs": [],
   "source": [
    "import setup\n",
    "setup.init_django(project_name='cfehome')\n"
   ]
  },
  {
   "cell_type": "code",
   "execution_count": null,
   "id": "5714e978-c63b-475d-8742-d221a877ed6d",
   "metadata": {},
   "outputs": [],
   "source": [
    "import helpers\n",
    "from products.tasks import scrape_product_url_task, scrape_products_task"
   ]
  },
  {
   "cell_type": "code",
   "execution_count": null,
   "id": "b1a6e976-ccd5-4522-a957-f9f6a8a9e0ed",
   "metadata": {},
   "outputs": [],
   "source": [
    "url = 'https://www.amazon.com/PlayStation%C2%AE5-console-slim-PlayStation-5/dp/B0CL61F39H/ref=sr_1_1?crid=30GAK7NM13LAY&dib=eyJ2IjoiMSJ9.F-c6KBJm1tKH0t43iBScfCfEIEFn9fme4tekt5SU7EijIEwRh738VBI7SBXhXPO-5rgEWvxbZTcf8nCJnstwLKn7991qn6xL-T81fzxIuBXSbDxlbzAbuNTXEIILAFc9lg2Xr7HRncSoyhDqnlguDwVApeTf_RZic9BNKs7dqJSpsvAjEMNR3OiKYWy1y8ZzXMZmJ1Yz7gFZHkxiyW7p9XlVt8i9Q-DolMmjCnL02BU.hovw4FtCiftxgW1SnWH1VUZru8X9Qxg_e76HflKud44&dib_tag=se&keywords=playstation%2B5&qid=1730985769&sprefix=play%2Caps%2C636&sr=8-1&th=1'"
   ]
  },
  {
   "cell_type": "code",
   "execution_count": null,
   "id": "c0888eda-8e70-43df-8e3a-45b6b0664a1e",
   "metadata": {},
   "outputs": [],
   "source": [
    "scrape_product_url_task.delay(url)"
   ]
  },
  {
   "cell_type": "code",
   "execution_count": null,
   "id": "77eee65b-6d79-4cb9-8cfc-5bb3dc0a54e3",
   "metadata": {},
   "outputs": [],
   "source": [
    "scrape_products_task.delay()"
   ]
  }
 ],
 "metadata": {
  "kernelspec": {
   "display_name": "Python 3 (ipykernel)",
   "language": "python",
   "name": "python3"
  },
  "language_info": {
   "codemirror_mode": {
    "name": "ipython",
    "version": 3
   },
   "file_extension": ".py",
   "mimetype": "text/x-python",
   "name": "python",
   "nbconvert_exporter": "python",
   "pygments_lexer": "ipython3",
   "version": "3.8.19"
  }
 },
 "nbformat": 4,
 "nbformat_minor": 5
}
