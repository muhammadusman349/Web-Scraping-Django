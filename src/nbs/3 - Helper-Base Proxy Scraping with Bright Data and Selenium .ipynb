{
 "cells": [
  {
   "cell_type": "code",
   "execution_count": 1,
   "id": "1fccce62-e005-4de4-b9eb-119dd3484a27",
   "metadata": {},
   "outputs": [
    {
     "ename": "FileNotFoundError",
     "evalue": "[WinError 2] The system cannot find the file specified: 'C:\\\\Users\\\\Usman\\\\webscraping\\\\src\\\\nbs\\\\src'",
     "output_type": "error",
     "traceback": [
      "\u001b[1;31m---------------------------------------------------------\u001b[0m",
      "\u001b[1;31mFileNotFoundError\u001b[0m       Traceback (most recent call last)",
      "Cell \u001b[1;32mIn[1], line 2\u001b[0m\n\u001b[0;32m      1\u001b[0m \u001b[38;5;28;01mimport\u001b[39;00m \u001b[38;5;21;01msetup\u001b[39;00m \n\u001b[1;32m----> 2\u001b[0m \u001b[43msetup\u001b[49m\u001b[38;5;241;43m.\u001b[39;49m\u001b[43minit_django\u001b[49m\u001b[43m(\u001b[49m\u001b[43mproject_name\u001b[49m\u001b[38;5;241;43m=\u001b[39;49m\u001b[38;5;124;43m'\u001b[39;49m\u001b[38;5;124;43mnbs\u001b[39;49m\u001b[38;5;124;43m'\u001b[39;49m\u001b[43m)\u001b[49m\n",
      "File \u001b[1;32m~\\webscraping\\src\\nbs\\setup.py:20\u001b[0m, in \u001b[0;36minit_django\u001b[1;34m(project_name)\u001b[0m\n\u001b[0;32m     19\u001b[0m \u001b[38;5;28;01mdef\u001b[39;00m \u001b[38;5;21minit_django\u001b[39m(project_name\u001b[38;5;241m=\u001b[39m\u001b[38;5;28;01mNone\u001b[39;00m):\n\u001b[1;32m---> 20\u001b[0m     \u001b[43mos\u001b[49m\u001b[38;5;241;43m.\u001b[39;49m\u001b[43mchdir\u001b[49m\u001b[43m(\u001b[49m\u001b[43mPWD\u001b[49m\u001b[43m)\u001b[49m\n\u001b[0;32m     21\u001b[0m     dj_project_name \u001b[38;5;241m=\u001b[39m project_name \u001b[38;5;129;01mor\u001b[39;00m DJANGO_PROJECT\n\u001b[0;32m     22\u001b[0m     \u001b[38;5;28;01mif\u001b[39;00m dj_project_name \u001b[38;5;241m==\u001b[39m \u001b[38;5;28;01mNone\u001b[39;00m:\n",
      "\u001b[1;31mFileNotFoundError\u001b[0m: [WinError 2] The system cannot find the file specified: 'C:\\\\Users\\\\Usman\\\\webscraping\\\\src\\\\nbs\\\\src'"
     ]
    }
   ],
   "source": [
    "import setup \n",
    "setup.init_django(project_name='nbs')"
   ]
  },
  {
   "cell_type": "code",
   "execution_count": 2,
   "id": "d31a8498-a3ad-4edf-bc14-c605ce0888aa",
   "metadata": {},
   "outputs": [
    {
     "data": {
      "text/plain": [
       "'C:\\\\Users\\\\Usman\\\\webscraping\\\\src\\\\nbs'"
      ]
     },
     "execution_count": 2,
     "metadata": {},
     "output_type": "execute_result"
    }
   ],
   "source": [
    "pwd"
   ]
  },
  {
   "cell_type": "code",
   "execution_count": null,
   "id": "20845470-659d-42c0-8e17-f34d1c902911",
   "metadata": {},
   "outputs": [],
   "source": [
    "url = \"https://www.amazon.com/PlayStation%C2%AE5-Digital-slim-PlayStation-5/dp/B0CL5KNB9M/ref=sr_1_1?crid=14Y4DGM4AJPTZ&dib=eyJ2IjoiMSJ9.R1UgvX_fBAMVBvUjhU7vZO7_Rxv3xAIYxHhZ1c1ggSBTjJGC8-Enwwnp26KPrpAm82nKsVUMQNcThaSyMFfm8V18bzpuvQs5TYL9sbfv9hhj5Ifjf8gZIAGiGFHjEe4eAV2gKzjOIfI6yNe5bxwQ1MWZmL-F8uscs36bg6i5foYtyMuWCQAra2GXuyrbWznDJ6pECUHXXO1qYMmYPoC6FZodvXUzmV0fBEJpkp4-XVc.qIj_CpY9if2oD2as2ml1Szd5ygtkKzRLid2nkjdIYaM&dib_tag=se&keywords=playstation%2B5&qid=1720691552&sprefix=%2Caps%2C731&sr=8-1&th=1\""
   ]
  },
  {
   "cell_type": "code",
   "execution_count": null,
   "id": "46295096-f471-4157-be2f-38cf4bbebab2",
   "metadata": {},
   "outputs": [],
   "source": [
    "import helpers"
   ]
  },
  {
   "cell_type": "code",
   "execution_count": null,
   "id": "f898adc1-4aa7-488e-89c9-fbafe0be7fe7",
   "metadata": {},
   "outputs": [],
   "source": [
    "helpers.scrape(url=url)"
   ]
  }
 ],
 "metadata": {
  "kernelspec": {
   "display_name": "Python 3 (ipykernel)",
   "language": "python",
   "name": "python3"
  },
  "language_info": {
   "codemirror_mode": {
    "name": "ipython",
    "version": 3
   },
   "file_extension": ".py",
   "mimetype": "text/x-python",
   "name": "python",
   "nbconvert_exporter": "python",
   "pygments_lexer": "ipython3",
   "version": "3.8.19"
  }
 },
 "nbformat": 4,
 "nbformat_minor": 5
}
